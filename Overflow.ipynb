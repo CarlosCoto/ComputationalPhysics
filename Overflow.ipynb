{
 "cells": [
  {
   "cell_type": "markdown",
   "id": "c5b6ed73",
   "metadata": {},
   "source": [
    "# Overflow"
   ]
  },
  {
   "cell_type": "markdown",
   "id": "18d090e1",
   "metadata": {},
   "source": [
    "## 1. Overview"
   ]
  },
  {
   "cell_type": "markdown",
   "id": "b12fc772",
   "metadata": {},
   "source": [
    "#### A buffer overflow (English buffer overflow or buffer overrun) is a software error that occurs when an amount of data is copied over an area that is not large enough to contain it, thus overwriting other memory areas. As a consequence, a memory access exception will be thrown followed by the termination of the program"
   ]
  },
  {
   "cell_type": "markdown",
   "id": "36eacdde",
   "metadata": {},
   "source": [
    "## 2. Description of the method"
   ]
  },
  {
   "cell_type": "markdown",
   "id": "96fab1dd",
   "metadata": {},
   "source": [
    "#### This program is used to determine the overflow (maximum data that the computer is capable of representing) in single and double precision. \n",
    "#### We will be able to generate the overflow error if we give the requested number large enough, generating a result greater than what the computer is capable of storing. The computer considers these numbers large enough and approximates them to INF"
   ]
  },
  {
   "cell_type": "markdown",
   "id": "04ebbbd6",
   "metadata": {},
   "source": [
    "## 3. Fortran code"
   ]
  },
  {
   "cell_type": "code",
   "execution_count": 1,
   "id": "5a5460fe",
   "metadata": {},
   "outputs": [
    {
     "name": "stderr",
     "output_type": "stream",
     "text": [
      "input:9:1 \u001b[0;31msemantic error:\u001b[0;00m `unit` must be specified either in arguments or keyword arguments.\n",
      "\u001b[0;31mREAD*,N\u001b[0;00m\n",
      "\u001b[0;31m^~~~~~~\u001b[0;00m\n"
     ]
    }
   ],
   "source": [
    "PROGRAM OVERFLOW\n",
    "           \n",
    "INTEGER A,B,I\n",
    "REAL*8 C,D,J,M,K\n",
    "CHARACTER*80 N\n",
    "\n",
    "WRITE (*,*)'¿Would you like to calculate the overflow in simple or double precision?'\n",
    "WRITE (*,*)'For simple, please enter s, for double, please enter d'\n",
    "READ*,N\n",
    "\n",
    "IF (N==\"s\") THEN \n",
    "GOTO 1\n",
    "ELSE\n",
    "GOTO 2\n",
    "END IF\n",
    "    \n",
    "1  K=3.4028234E38\n",
    "\n",
    "WRITE (*,*) 'In simple precision with a number about 1E18'\n",
    "WRITE (*,*) 'the overflow error is generated in a short time'\n",
    "WRITE (*,*) 'Please enter a number:'\n",
    "READ*,B\n",
    "\n",
    "A=0\n",
    "\n",
    "DO I=1,B\n",
    "A=A+(B**2)\n",
    "WRITE (*,*) I,\"-\",A\n",
    "IF (A>=K) THEN\n",
    "WRITE (*,*) 'The last number is greater than'\n",
    "WRITE (*,*) 'computer can representand so it throws the error'\n",
    "STOP\n",
    "END IF\n",
    "END DO\n",
    "\n",
    "STOP\n",
    "\n",
    "2   M=1.7976931348623158D308\n",
    "\n",
    "WRITE (*,*) 'In double precision is enough with a number' \n",
    "WRITE (*,*) 'around 1E152 to throw the error'\n",
    "WRITE (*,*) 'Please enter a number:'\n",
    "READ*,D\n",
    "\n",
    "C=0\n",
    "\n",
    "DO J=1,D\n",
    "C=C+(D**2)\n",
    "WRITE (*,*) J,\"-\",C\n",
    "IF (C>=M) THEN\n",
    "WRITE (*,*) 'The last term on the series is'\n",
    "WRITE (*,*) 'as big as it generates an overflow error'\n",
    "STOP\n",
    "END IF\n",
    "END DO\n",
    "\n",
    "END PROGRAM OVERFLOW"
   ]
  }
 ],
 "metadata": {
  "kernelspec": {
   "display_name": "Fortran",
   "language": "fortran",
   "name": "fortran"
  },
  "language_info": {
   "file_extension": ".f90",
   "mimetype": "text/x-fortran",
   "name": "fortran",
   "version": "2018"
  }
 },
 "nbformat": 4,
 "nbformat_minor": 5
}
