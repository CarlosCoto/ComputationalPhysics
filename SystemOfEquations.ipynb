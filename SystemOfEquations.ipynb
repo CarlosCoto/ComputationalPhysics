{
 "cells": [
  {
   "cell_type": "markdown",
   "id": "c28469dc",
   "metadata": {},
   "source": [
    "# System of Equations (Gauss-Seidel)"
   ]
  },
  {
   "cell_type": "markdown",
   "id": "63fdb141",
   "metadata": {},
   "source": [
    "## 1. Overview"
   ]
  },
  {
   "cell_type": "markdown",
   "id": "eb1a237d",
   "metadata": {},
   "source": [
    "#### Given the matrix"
   ]
  },
  {
   "cell_type": "markdown",
   "id": "2dcea141",
   "metadata": {},
   "source": [
    "$$\n",
    "A = \\begin{bmatrix} a_{11} & a_{12}& ... & a_{1n} \\\\ a_{21} & a_{22}& ... & a_{2n} \\\\ \\vdots & \\vdots & \\vdots & \\vdots \\\\ a_{n1} & a_{n2}& ... & a_{nm}  \\end{bmatrix}\n",
    "$$"
   ]
  },
  {
   "cell_type": "markdown",
   "id": "9995b8e1",
   "metadata": {},
   "source": [
    "#### *A* has a strictly dominant diagonal if in each row the absolute value of the diagonal element is greater than the sum of the absolute values of the off-diagonal elements."
   ]
  },
  {
   "cell_type": "markdown",
   "id": "837e1619",
   "metadata": {},
   "source": [
    "$$\n",
    "|a_{ii}|>|a_{i1}|+|a_{i2}|+\\dots+|a_{i,i-1}|+|a_{i,j+1}|+\\dots+|a_{in}|=\\sum_{j=1\\\\j\\neq i}^{n}|a_{ij}|\n",
    "$$"
   ]
  },
  {
   "cell_type": "markdown",
   "id": "c88b564d",
   "metadata": {},
   "source": [
    "#### for $i=1,2,...,n$\n",
    "\n",
    "#### Consider a system of n equations with n unknowns, that is, we have a square matrix of coefficients $a_{ij}$ . If the matrix is  diagonally dominant then the system has a unique solution. The iterative Jacobi and Gauss-Seidel methods will converge to the solution regardless of the initial values."
   ]
  },
  {
   "cell_type": "markdown",
   "id": "4cfa3750",
   "metadata": {},
   "source": [
    "## 2. Description of the method"
   ]
  },
  {
   "cell_type": "markdown",
   "id": "8e05d52a",
   "metadata": {},
   "source": [
    "#### The chosen method is the Gauss-Seidel, which is a refinement of the Jacobi method which generally (but not always) converges faster. The last value of each variable is replaced at each step in the iterative process. \n",
    "\n",
    "#### The method is indicated in the following expression:"
   ]
  },
  {
   "cell_type": "markdown",
   "id": "061e5b67",
   "metadata": {},
   "source": [
    "$$\n",
    "x'_{i}= (b_{i}-(a_{i1}x'_{1}+a_{i2}x'_{2}+\\dots+a_{i,i-l}x'_{i-1}+a_{i,i+1}x'_{1}+\\dots+a_{in}x'_{n}))/a_{ii}\n",
    "$$"
   ]
  },
  {
   "cell_type": "markdown",
   "id": "c3fd3fb4",
   "metadata": {},
   "source": [
    "#### for $i=1,2,...,n.$"
   ]
  },
  {
   "cell_type": "markdown",
   "id": "b1ce2911",
   "metadata": {},
   "source": [
    "## 3. Fortran code"
   ]
  },
  {
   "cell_type": "code",
   "execution_count": 6,
   "id": "9d17ccab",
   "metadata": {},
   "outputs": [
    {
     "name": "stderr",
     "output_type": "stream",
     "text": [
      "LFortran Exception: visit_Read() not implemented"
     ]
    }
   ],
   "source": [
    "PROGRAM GAUSSEIDEL\n",
    "REAL A(100,100),Q(100,100),R(100,100)\n",
    "INTEGER Z, N, I, J,k\n",
    "REAL S(100),XINI(100),XFIN(100),X(100)\n",
    "!Welcome to the program\n",
    "PRINT*\n",
    "PRINT*,'=================================================='\n",
    "PRINT*,'=============== Gauss-Seidel Method ================='\n",
    "PRINT*,'=================================================='\n",
    "PRINT*\n",
    "!Data input\n",
    "WRITE (*,*) 'Please enter the number of equations'\n",
    "READ (*,*) N\n",
    "PRINT*\n",
    "WRITE (*,*) 'Please enter the elements of A matrix'\n",
    "DO I=1,N\n",
    "\tDO J=1,N\n",
    "\t\tWRITE (*,*) 'A(',I,',',J,')'\n",
    "\t\tREAD (*,*) A(I,J)\n",
    "\tEND DO\n",
    "END DO\n",
    "PRINT*\n",
    "WRITE (*,*) 'Please enter the vector S of independent terms:'\n",
    "DO I=1,N\n",
    "\tWRITE (*,*) 'S(',I,')'\n",
    "\tREAD (*,*) S(I)\n",
    "END DO\n",
    "PRINT*\n",
    "!Q matrix calculation\n",
    "DO I=1,N\n",
    "\tDO J=1,N\n",
    "\t\tIF (I>=J) THEN\n",
    "Q(I,J)=A(I,J)\n",
    "ELSE\n",
    "              \t\t\tQ(I,J)=0\n",
    "              \t\tEND IF\n",
    "\tEND DO\n",
    "END DO\n",
    "!Calculation of matrix R=Q-A\n",
    "DO I=1,N\n",
    "\tDO J=1,N\n",
    "\t\tR(I,J)=Q(I,J)-A(I,J)\n",
    "\tEND DO\n",
    "END DO\n",
    "\t\n",
    "!Assignment of initial values\n",
    "DO I=1,N\n",
    "\tXINI(I)=0\n",
    "\tXFIN(I)=0\n",
    "END DO\n",
    "      \n",
    "!Algorithm of Gauss-Seide method\n",
    "WRITE (*,*) 'Please enter the number of iterations to be performed: '\n",
    "READ (*,*) Z\n",
    "PRINT*\n",
    "DO K=1,Z\n",
    "\tDO I=1,N\n",
    "\t\tDO J=1,N\n",
    "\t\t\tIF (I/=J) THEN\n",
    "\t\t\t\tXFIN(I)=XFIN(I)+R(I,J)*XINI(J)\n",
    "\t\t\tEND IF\n",
    "\t\tEND DO\n",
    "\t\tXFIN(I)=(XFIN(I)+S(I))/Q(I,I)\n",
    "\t\tXINI(I)=XFIN(I)\n",
    "\tEND DO\n",
    "\tDO I=1,N\n",
    "\t\tXFIN(I)=0\n",
    "\tEND DO\n",
    "END DO\t\n",
    "WRITE (*,*) 'The solutions are:'\n",
    "DO I=1,N\n",
    "WRITE (*,*) 'x(',I,')=',X(I)\n",
    "END DO\n",
    "END PROGRAM GAUSSEIDEL"
   ]
  },
  {
   "cell_type": "code",
   "execution_count": null,
   "id": "11799c0d",
   "metadata": {},
   "outputs": [],
   "source": []
  }
 ],
 "metadata": {
  "kernelspec": {
   "display_name": "Fortran",
   "language": "fortran",
   "name": "fortran"
  },
  "language_info": {
   "file_extension": ".f90",
   "mimetype": "text/x-fortran",
   "name": "fortran",
   "version": "2018"
  }
 },
 "nbformat": 4,
 "nbformat_minor": 5
}
