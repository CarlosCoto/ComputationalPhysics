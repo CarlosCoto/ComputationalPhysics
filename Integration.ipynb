{
 "cells": [
  {
   "cell_type": "markdown",
   "id": "501c6f33",
   "metadata": {},
   "source": [
    "# Integration (Simpson's composite method)"
   ]
  },
  {
   "cell_type": "markdown",
   "id": "2e712c4c",
   "metadata": {},
   "source": [
    "## Overview"
   ]
  },
  {
   "cell_type": "markdown",
   "id": "01764b6e",
   "metadata": {},
   "source": [
    "#### If the region where you want to calculate the integral is large or the function has a complicated behavior, the approximations obtained with the simple numerical integration formulas are poor. To calculate the integral in these cases, it is more convenient to subdivide the integration interval into smaller ones and successively apply one of the compound integration formulas called compound integration."
   ]
  },
  {
   "cell_type": "markdown",
   "id": "0b4a1ff4",
   "metadata": {},
   "source": [
    "## Description of the method"
   ]
  },
  {
   "cell_type": "markdown",
   "id": "28e077b0",
   "metadata": {},
   "source": [
    "#### The method used is the composite Simpson's rule:\n",
    "\n",
    "#### To obtain the integral using the composite Simpson's rule, we can proceed by calculating each partial integral with three points.\n",
    "\n",
    "#### Lets divide the interval between a and b into n subintervals of length h. The integral every two subintervals is approximated by Simpson's formula. In this way, if we know the value of the function at n + 1 points: $x_0,..., x_n$ equally spaced, the value of the integral every two intervals is given by the simple Simpson's rule. The integral in the interval $[a, b] = [x_0, x_n]$, will be the sum of the partial integrals obtained every 2 subintervals:"
   ]
  },
  {
   "cell_type": "markdown",
   "id": "d45021f0",
   "metadata": {},
   "source": [
    "$$\n",
    " \\int_0^b f(x)dx = h\\frac{1}{3}[f(a)+4f(x_1)+2f(x_2)+...+2f(x_{n-2})+4f(x_{n-1})+f(b)]\n",
    "$$"
   ]
  },
  {
   "cell_type": "markdown",
   "id": "6dfd3409",
   "metadata": {},
   "source": [
    "#### The error term is "
   ]
  },
  {
   "cell_type": "markdown",
   "id": "cdbc0227",
   "metadata": {},
   "source": [
    "$$\n",
    "E=-\\frac{1}{90}h^5\\sum_{k=1}^mf^{4}(\\xi_k)\n",
    "$$"
   ]
  },
  {
   "cell_type": "markdown",
   "id": "5ba2e4bd",
   "metadata": {},
   "source": [
    "#### where $\\xi_k \\in  (x_{2k-2},x_{2k})$ and $\\xi \\in(a,b)$"
   ]
  },
  {
   "cell_type": "markdown",
   "id": "35d99b09",
   "metadata": {},
   "source": [
    "## Fortran Code"
   ]
  },
  {
   "cell_type": "code",
   "execution_count": 6,
   "id": "4b713dfd",
   "metadata": {},
   "outputs": [
    {
     "name": "stderr",
     "output_type": "stream",
     "text": [
      "input:17:5 \u001b[0;31msemantic error:\u001b[0;00m Function or array 'mod' not declared\n",
      "IF (\u001b[0;31mMOD(N,2)\u001b[0;00m==0) GOTO 1\n",
      "    \u001b[0;31m^~~~~~~~\u001b[0;00m\n"
     ]
    }
   ],
   "source": [
    "PROGRAM SIMPSONCOMP\n",
    "\n",
    "REAL X(30),FX(30),H,SUM,RES\n",
    "INTEGER N\n",
    "      \n",
    "!Welcome of the program\n",
    "\n",
    "PRINT*\n",
    "PRINT*,'==============================================='\n",
    "PRINT*,'====== Integration by Simpson method  ======'\n",
    "PRINT*,'==============================================='\n",
    "PRINT*\n",
    "\t\t\n",
    "WRITE (*,*) 'Please enter the number of points you have: '\n",
    "WRITE (*,*) '          (It has to be an odd number)'\n",
    "READ (*,*) N\n",
    "IF (MOD(N,2)==0) GOTO 1\n",
    "PRINT*\n",
    "\n",
    "WRITE (*,*) 'Please insert the value of x(1): '\n",
    "READ (*,*) X(1)\n",
    "WRITE (*,*) 'Plese insert the value of x(n): '\n",
    "READ (*,*) X(N)\n",
    "PRINT*\n",
    "\n",
    "!h calculation\n",
    "\n",
    "H=(X(N)-X(1))/(N-1)\n",
    "WRITE (*,*) 'The value of h is: ',H\n",
    "PRINT*\n",
    "\n",
    "!Calculation of rest of elements of vector X\n",
    "\n",
    "DO I=2,N-1\n",
    "X(I)=X(I-1)+H\n",
    "END DO\n",
    "      \n",
    "!Print vector X and catch vector FX\n",
    "\n",
    "WRITE (*,*) 'Please insert the value of f(x) for each point x:'\n",
    "PRINT*\n",
    "DO I=1,N\n",
    "wRITE (*,*) 'For   x(',I,')=',X(I)\n",
    "WRITE (*,*) 'Its image es  f(x',I,')='\n",
    "READ (*,*) FX(I)\n",
    "PRINT*\n",
    "END DO\n",
    "      \n",
    "!Algorithm\n",
    "\n",
    "SUM=0\n",
    "SUM=FX(1)+FX(N)\n",
    "    \n",
    "DO I=2,N-1,+2\n",
    "SUM=SUM+(4*FX(I))\n",
    "END DO\n",
    "      \n",
    "DO I=3,N-2,+2\n",
    "SUM=SUM+(2*FX(I))\n",
    "END DO\n",
    "\n",
    "RES=(H/3)*SUM\n",
    "      \n",
    "!Showing result\n",
    "\n",
    "WRITE (*,*) 'The integral result is:  ', RES\n",
    "\n",
    "END PROGRAM SIMPSONCOMP"
   ]
  },
  {
   "cell_type": "code",
   "execution_count": null,
   "id": "f90856c7",
   "metadata": {},
   "outputs": [],
   "source": []
  }
 ],
 "metadata": {
  "kernelspec": {
   "display_name": "Fortran",
   "language": "fortran",
   "name": "fortran"
  },
  "language_info": {
   "file_extension": ".f90",
   "mimetype": "text/x-fortran",
   "name": "fortran",
   "version": "2018"
  }
 },
 "nbformat": 4,
 "nbformat_minor": 5
}
