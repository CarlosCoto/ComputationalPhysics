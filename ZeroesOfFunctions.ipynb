{
 "cells": [
  {
   "cell_type": "markdown",
   "id": "649f38de",
   "metadata": {},
   "source": [
    "# SEARCH FOR ZEROES ON FUNCTIONS"
   ]
  },
  {
   "cell_type": "markdown",
   "id": "b333cd4d",
   "metadata": {},
   "source": [
    "## 1. Overview"
   ]
  },
  {
   "cell_type": "markdown",
   "id": "754495cd",
   "metadata": {},
   "source": [
    "#### The search for the roots is done through iterations, both for mono and multidimensional problems. Generally, one begins with some test point, if possible close to the sought root. The algorithm used will improve the value of some parameter associated with a convergence criterion until it is satisfied.\n",
    "\n",
    "#### In smoothly varying functions, most algorithms always converge, but without a doubt, one of the determining factors is the choice of the first test point, mainly in multidimensional problems."
   ]
  },
  {
   "cell_type": "markdown",
   "id": "180c02ae",
   "metadata": {},
   "source": [
    "## 2. Description of the method"
   ]
  },
  {
   "cell_type": "markdown",
   "id": "df81389d",
   "metadata": {},
   "source": [
    "#### The method used is the secant method. When smoothly varying functions near a root are available, the so-called secant and false position (or regula falsi) methods generally converge more quickly than the bisection method.\n",
    "\n",
    "#### The estimation of the root in the iteration is made from the point where the approximation intersects the abscissa axis. After each iteration one of the secant points is discarded based on the new estimate of the root.\n",
    "\n",
    "#### The product of the ends of the secant must be less than zero to ensure convergence.\n",
    "\n",
    "#### The formula for this method is"
   ]
  },
  {
   "cell_type": "markdown",
   "id": "e32ff83f",
   "metadata": {},
   "source": [
    "$$\n",
    "x^{(k+1)}=x^{(k)}-\\frac{x^{(k)}-x^{(k-1)}}{f(x^{(k)})-f(x^{(k-1)})}f(x^{(k)})\n",
    "$$"
   ]
  },
  {
   "cell_type": "markdown",
   "id": "9c01ec2d",
   "metadata": {},
   "source": [
    "#### being k the number of iterations."
   ]
  },
  {
   "cell_type": "code",
   "execution_count": 2,
   "id": "11f17eb0",
   "metadata": {},
   "outputs": [
    {
     "name": "stderr",
     "output_type": "stream",
     "text": [
      "input:17:1 \u001b[0;31msemantic error:\u001b[0;00m `unit` must be specified either in arguments or keyword arguments.\n",
      "\u001b[0;31mREAD*,X1\u001b[0;00m\n",
      "\u001b[0;31m^~~~~~~~\u001b[0;00m\n"
     ]
    }
   ],
   "source": [
    "PROGRAM SECANT\n",
    "\n",
    "REAL INF,SUP,X1,X2,X3,FX1,FX2,FX3,P,R\n",
    "\n",
    "!Welcome to the program\n",
    "\n",
    "PRINT*\n",
    "PRINT*,'============================================='\n",
    "PRINT*,'====== Secant method for searching zeroes of functions ======'\n",
    "PRINT*,'============================================='\n",
    "PRINT*\n",
    "\n",
    "!Data  input\n",
    "\n",
    "WRITE (*,*) 'Please enter the values of x1 and its image'\n",
    "WRITE (*,*) 'x1='\n",
    "READ*,X1\n",
    "WRITE (*,*) 'f(x1)='\n",
    "READ*,FX1 \n",
    "PRINT*\n",
    "\n",
    "WRITE (*,*) 'Please enter the values of x2 and its image'\n",
    "WRITE (*,*) 'x2='\n",
    "READ*,X2\n",
    "WRITE (*,*) 'f(x2)='\n",
    "READ*,FX2\n",
    "PRINT* \n",
    "\n",
    "WRITE (*,*) 'Please enter the precision value'\n",
    "READ*,P\n",
    "PRINT*\n",
    "\n",
    "INF=X1\n",
    "SUP=X2\n",
    "\n",
    "!Calcalute absolute value of (x_n+1 - x_n)\n",
    "\n",
    "R=X2-X1\n",
    "IF ((X2-X1)<0) R=ABS(R)\n",
    "\n",
    "!Algorithm of secant method\n",
    "\n",
    "1  DO WHILE (R>=P)\n",
    "X3=X2-FX2*(X2-X1)/(FX2-FX1)\n",
    "\n",
    "R=X3-X2\n",
    "IF (X3-X2<0) R=ABS(R) \n",
    "\n",
    "IF (R<P) GOTO 1\n",
    "\n",
    "WRITE (*,*) 'Value of x_n+1 in this iteration: ',X3\n",
    "WRITE (*,*) 'Please enter the value of f(',X3,'): '\n",
    "READ*,FX3\n",
    "\n",
    "X1=X2\n",
    "FX1=FX2\n",
    "X2=X3\n",
    "FX2=FX3\n",
    "END DO\n",
    "\n",
    "!Showing result\n",
    "\n",
    "WRITE (*,*) 'The zero between ',INF,' y',SUP,' is',X3\n",
    "\n",
    "END PROGRAM SECANT"
   ]
  }
 ],
 "metadata": {
  "kernelspec": {
   "display_name": "Fortran",
   "language": "fortran",
   "name": "fortran"
  },
  "language_info": {
   "file_extension": ".f90",
   "mimetype": "text/x-fortran",
   "name": "fortran",
   "version": "2018"
  }
 },
 "nbformat": 4,
 "nbformat_minor": 5
}
