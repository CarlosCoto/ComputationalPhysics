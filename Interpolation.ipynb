{
 "cells": [
  {
   "cell_type": "markdown",
   "id": "cfbe11fe",
   "metadata": {},
   "source": [
    "# INTERPOLATION"
   ]
  },
  {
   "cell_type": "markdown",
   "id": "540a1c46",
   "metadata": {},
   "source": [
    "## Overview"
   ]
  },
  {
   "cell_type": "markdown",
   "id": "29e2c0f3",
   "metadata": {},
   "source": [
    "#### The polynomic interpolation is a method for guessing, in approximation, the values of a function for which only the image is known in a finite number of abscises. Often, even the function is unknown and only values at those points are available.\n",
    "\n",
    "#### The goal is to obtain a polynomial that meets the requirements above and allow us to find approximations for other unknown values for the function with a desiderable and fixed precision. Thus, for every interpolating polynomial, an error formula is added so the precision can be adjusted accordingly."
   ]
  },
  {
   "cell_type": "markdown",
   "id": "b27e648b",
   "metadata": {},
   "source": [
    "## Description of the method"
   ]
  },
  {
   "cell_type": "markdown",
   "id": "e6186efd",
   "metadata": {},
   "source": [
    "#### For this purpose we are going to use Lagrange interpolation, that works as follows:\n",
    "\n",
    "#### Being f the function to interpolate, and being $x_0, x_1,...x_n$ the known abscises of f, and being $f_0, f_1,...,f_n$ the values the function takes on those abscises, the Lagrange interpolating polynomial of degree n is a polynomial in the form:"
   ]
  },
  {
   "cell_type": "markdown",
   "id": "afed1df5",
   "metadata": {},
   "source": [
    "$$\n",
    "\\sum\\limits_{j=0}^{n}f_jl_j(x), n\\le m\n",
    "$$"
   ]
  },
  {
   "cell_type": "markdown",
   "id": "9c392edf",
   "metadata": {},
   "source": [
    "#### where $l_i(x)$ are the polynomials of Lagrange, that are calculated as "
   ]
  },
  {
   "cell_type": "markdown",
   "id": "967173f2",
   "metadata": {},
   "source": [
    "$$\n",
    "l_j(x)=\\prod_{i\\neq j}\\frac{x-x_i}{x_j-x_i}\n",
    "$$"
   ]
  },
  {
   "cell_type": "markdown",
   "id": "08d7acb6",
   "metadata": {},
   "source": [
    "## Fortran code"
   ]
  },
  {
   "cell_type": "code",
   "execution_count": 37,
   "id": "24582561",
   "metadata": {
    "scrolled": true
   },
   "outputs": [
    {
     "name": "stderr",
     "output_type": "stream",
     "text": [
      "input:55:1 \u001b[0;31msyntax error:\u001b[0;00m end of file is unexpected here\n",
      "\u001b[0;31m!\u001b[0;00mShowing results\n",
      "\u001b[0;31m^\u001b[0;00m\n"
     ]
    }
   ],
   "source": [
    "PROGRAM LAGRANGE\n",
    "\n",
    "REAL VALOR,RES,X(30),FX(30),L(30)\n",
    "INTEGER N, I, K\n",
    "\n",
    "RES=0.0\n",
    "\n",
    "!Beginning of the program\n",
    "\n",
    "PRINT*\n",
    "PRINT*,'=============================================='\n",
    "PRINT*,'========= Interpolation by Lagrange method ========='\n",
    "PRINT*,'=============================================='\n",
    "PRINT*\n",
    "\n",
    "!Inputs\n",
    "\n",
    "WRITE (*,*) 'Point to obtain the image on: '\n",
    "READ (*,*) VALOR\n",
    "PRINT*\n",
    "WRITE (*,*) 'Please input the number of points you already have: '\n",
    "READ (*,*) N\n",
    "PRINT*\n",
    "WRITE (*,*) 'Please input the points and their images (values of x, if f(x))'\n",
    "DO I=1,N\n",
    "PRINT*\n",
    "WRITE (*,*) 'x',I,'= '\n",
    "READ (*,*) X(I)\n",
    "WRITE (*,*) 'f(x',I,')= '\n",
    "READ (*,*) FX(I)\n",
    "END DO\n",
    "\n",
    "DO I=1,N\n",
    "L(I)=1.0\n",
    "END DO\n",
    "\n",
    "!Algorithm for the Lagrange method\n",
    "\n",
    "DO I=1,N\n",
    "DO K=1,N\n",
    "IF (I==K) THEN\n",
    "L(I)=L(I)\n",
    "ELSE\n",
    "L(I)=L(I)*(VALOR-X(K))\n",
    "L(I)=L(I)/(X(I)-X(K))\n",
    "END IF\n",
    "END DO\n",
    "END DO\n",
    "\n",
    "DO I=1,N\n",
    "RES=RES+(FX(I)*L(I))\n",
    "END DO\n",
    "PRINT*\n",
    "!Showing results"
      
   ]
  },
  {
   "cell_type": "code",
   "execution_count": null,
   "id": "e05532dd",
   "metadata": {},
   "outputs": [],
   "source": []
  },
  {
   "cell_type": "code",
   "execution_count": null,
   "id": "7e2773d6",
   "metadata": {},
   "outputs": [],
   "source": []
  }
 ],
 "metadata": {
  "kernelspec": {
   "display_name": "Fortran",
   "language": "fortran",
   "name": "fortran"
  },
  "language_info": {
   "file_extension": ".f90",
   "mimetype": "text/x-fortran",
   "name": "fortran",
   "version": "2018"
  }
 },
 "nbformat": 4,
 "nbformat_minor": 5
}
